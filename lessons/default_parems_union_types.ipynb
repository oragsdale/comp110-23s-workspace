{
 "cells": [
  {
   "attachments": {},
   "cell_type": "markdown",
   "metadata": {},
   "source": [
    "# Practice with default parameters and union types"
   ]
  },
  {
   "attachments": {},
   "cell_type": "markdown",
   "metadata": {},
   "source": [
    "## SewingMaterials Class"
   ]
  },
  {
   "cell_type": "code",
   "execution_count": 8,
   "metadata": {},
   "outputs": [],
   "source": [
    "from typing import Union\n",
    "\n",
    "class SewingMaterials: \n",
    "\n",
    "    fabric: dict[str, float]\n",
    "\n",
    "    def __init__(self):\n",
    "        \"\"\"Initializes SewingMaterials object with empty fabric.\"\"\"\n",
    "        self.fabric = {}\n",
    "\n",
    "    def add_fabric(self, kind: str = \"cotton\", yards: Union[float, int] = \"1.0\") -> None: \n",
    "        \"\"\"Updates self.fabric.\"\"\"\n",
    "        self.fabric[kind] = float(yards)"
   ]
  },
  {
   "attachments": {},
   "cell_type": "markdown",
   "metadata": {},
   "source": [
    "### Testing\n",
    "* creating new object named my_bin \n",
    "* 1 yard of \"cotton\" and 2 yards of \"suede\"\n",
    "* printing inventory"
   ]
  },
  {
   "cell_type": "code",
   "execution_count": 9,
   "metadata": {},
   "outputs": [
    {
     "name": "stdout",
     "output_type": "stream",
     "text": [
      "{'silk': 1.0, 'suede': 2.0}\n"
     ]
    }
   ],
   "source": [
    "my_bin: SewingMaterials = SewingMaterials()\n",
    "#my_bin.add_fabric(\"cotton\", 1.0)\n",
    "my_bin.add_fabric(\"silk\")\n",
    "my_bin.add_fabric(\"suede\", 2)\n",
    "print(my_bin.fabric)"
   ]
  }
 ],
 "metadata": {
  "kernelspec": {
   "display_name": "Python 3",
   "language": "python",
   "name": "python3"
  },
  "language_info": {
   "codemirror_mode": {
    "name": "ipython",
    "version": 3
   },
   "file_extension": ".py",
   "mimetype": "text/x-python",
   "name": "python",
   "nbconvert_exporter": "python",
   "pygments_lexer": "ipython3",
   "version": "3.11.1"
  },
  "orig_nbformat": 4
 },
 "nbformat": 4,
 "nbformat_minor": 2
}
