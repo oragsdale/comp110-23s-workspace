{
 "cells": [
  {
   "attachments": {},
   "cell_type": "markdown",
   "metadata": {},
   "source": [
    "# Quantifying Shakespeare\n",
    "Analyzing frequencies of different letters in snakespeare's work.\n",
    "(Data from: bit.ly/shakespeare-txt)\n",
    "\n",
    "In this notebook, we will: \n",
    "1. Rea all of shakespeare's works into a list of strings\n",
    "2. Count the frequencies of letters used\n",
    "3. Visualize frequencies with a bar graph"
   ]
  },
  {
   "attachments": {},
   "cell_type": "markdown",
   "metadata": {},
   "source": [
    "## Reading lines"
   ]
  },
  {
   "cell_type": "code",
   "execution_count": null,
   "metadata": {},
   "outputs": [],
   "source": [
    "from io import TextIOWrapper\n",
    "\n",
    "def read_lines(filename: str) -> list[str]:\n",
    "    \"\"\"Read a text file into a list of strings for each line\"\"\"\n",
    "    lines: list[str] = []\n",
    "    file_handle: TextIOWrapper = open(filename, \"r\")\n",
    "    for line in file_handle:\n",
    "        # strip leading and tailing whitespaces \" a \" -> \"a\"\n",
    "        line = line.strip()\n",
    "        # make every character lowercase\n",
    "        line = line.lower()\n",
    "        lines.append(line)\n",
    "    file_handle.close\n",
    "    return lines\n",
    "\n",
    "shakespeare_lines: list[str] = read_lines(\"../data/t8.shakespeare.txt\")\n",
    "print(len(shakespeare_lines))"
   ]
  },
  {
   "attachments": {},
   "cell_type": "markdown",
   "metadata": {},
   "source": [
    "## Tally function\n",
    "* function anme: tally\n",
    "* parameters: counts: dict[str, int]\n",
    "* returns None\n",
    "### Functionality: \n",
    "* Mutate counts\n",
    "* if key is in counts, increase the number of the value stored at key by 1\n",
    "* If key is not in counts, add it to counts with the value 1"
   ]
  },
  {
   "cell_type": "code",
   "execution_count": null,
   "metadata": {},
   "outputs": [],
   "source": [
    "def tally(counts: dict[str, int], key: str) -> None: \n",
    "    \"\"\"Mutates counts by increasing the value stored at key by 1\"\"\"\n",
    "    if key in counts: \n",
    "        counts[key] += 1\n",
    "    else: \n",
    "        counts[key] = 1"
   ]
  },
  {
   "attachments": {},
   "cell_type": "markdown",
   "metadata": {},
   "source": [
    "### Testing tally()"
   ]
  },
  {
   "cell_type": "code",
   "execution_count": null,
   "metadata": {},
   "outputs": [],
   "source": [
    "d: dict = {}\n",
    "tally(d, \"a\")\n",
    "print(d)\n",
    "tally(d, \"a\")\n",
    "print(d)\n",
    "tally(d, \"b\")\n",
    "print(d)"
   ]
  },
  {
   "attachments": {},
   "cell_type": "markdown",
   "metadata": {},
   "source": [
    "## Count_letters function\n",
    "* parameters: lines: list[str]\n",
    "* returns dict[str, int]\n",
    "### Functionality:\n",
    "* Create dict[str, int] called counts\n",
    "* loop through"
   ]
  },
  {
   "cell_type": "code",
   "execution_count": null,
   "metadata": {},
   "outputs": [],
   "source": [
    "def count_letters(lines: list[str]) -> dict[str, int]:\n",
    "    counts: dict[str, int] = {}\n",
    "    for line in lines: \n",
    "        for char in line:\n",
    "            if char.isalpha():\n",
    "                tally(counts, char)\n",
    "    return counts\n",
    "\n",
    "shakes_letters: dict[str, int] = count_letters(shakespeare_lines)\n",
    "print(shakes_letters)"
   ]
  },
  {
   "attachments": {},
   "cell_type": "markdown",
   "metadata": {},
   "source": [
    "## Sorting Dictionaries"
   ]
  },
  {
   "cell_type": "code",
   "execution_count": null,
   "metadata": {},
   "outputs": [],
   "source": [
    "# Make my dictionary a list\n",
    "list_version_shakes: list[tuple[str, int]] = list(shakes_letters.items())\n",
    "#print(list_version_shakes)\n",
    "\n",
    "# Sort a list \n",
    "sorted_letters_list = sorted(list_version_shakes)\n",
    "#print(sorted_letters_list)\n",
    "sorted_letters_dict = dict(sorted_letters_list)\n",
    "print(sorted_letters_dict)"
   ]
  },
  {
   "cell_type": "code",
   "execution_count": null,
   "metadata": {},
   "outputs": [],
   "source": [
    "from matplotlib import pyplot\n",
    "\n",
    "pyplot.title(\"Letters Frequency\")\n",
    "pyplot.xlabel(\"Letters\")\n",
    "pyplot.ylabel(\"Frequency\")\n",
    "labels: list[str] = list(sorted_letters_dict.keys())\n",
    "values: list[int] = list(sorted_letters_dict.values())\n",
    "pyplot.bar(labels, values)"
   ]
  }
 ],
 "metadata": {
  "kernelspec": {
   "display_name": "Python 3",
   "language": "python",
   "name": "python3"
  },
  "language_info": {
   "codemirror_mode": {
    "name": "ipython",
    "version": 3
   },
   "file_extension": ".py",
   "mimetype": "text/x-python",
   "name": "python",
   "nbconvert_exporter": "python",
   "pygments_lexer": "ipython3",
   "version": "3.11.1"
  },
  "orig_nbformat": 4
 },
 "nbformat": 4,
 "nbformat_minor": 2
}
